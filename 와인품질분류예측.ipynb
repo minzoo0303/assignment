{
 "cells": [
  {
   "cell_type": "markdown",
   "id": "1d4df2d2",
   "metadata": {},
   "source": [
    "## 와인 품질 분류 예측"
   ]
  },
  {
   "cell_type": "markdown",
   "id": "41936d63",
   "metadata": {},
   "source": [
    "### 1. 문제 이해"
   ]
  },
  {
   "cell_type": "markdown",
   "id": "8c6122ec",
   "metadata": {},
   "source": [
    "#### -1. 데이터 불러오기"
   ]
  },
  {
   "cell_type": "code",
   "execution_count": 1,
   "id": "1719b7ab",
   "metadata": {},
   "outputs": [],
   "source": [
    "import pandas as pd"
   ]
  },
  {
   "cell_type": "code",
   "execution_count": 2,
   "id": "b9057103",
   "metadata": {},
   "outputs": [],
   "source": [
    "train = pd.read_csv(\"train(6).csv\", encoding = 'utf-8')\n",
    "test = pd.read_csv(\"test(6).csv\", encoding = 'utf-8')\n",
    "submission = pd.read_csv(\"submission(6).csv\", encoding = 'utf-8')"
   ]
  },
  {
   "cell_type": "code",
   "execution_count": 3,
   "id": "e73a1e1b",
   "metadata": {},
   "outputs": [
    {
     "data": {
      "text/html": [
       "<div>\n",
       "<style scoped>\n",
       "    .dataframe tbody tr th:only-of-type {\n",
       "        vertical-align: middle;\n",
       "    }\n",
       "\n",
       "    .dataframe tbody tr th {\n",
       "        vertical-align: top;\n",
       "    }\n",
       "\n",
       "    .dataframe thead th {\n",
       "        text-align: right;\n",
       "    }\n",
       "</style>\n",
       "<table border=\"1\" class=\"dataframe\">\n",
       "  <thead>\n",
       "    <tr style=\"text-align: right;\">\n",
       "      <th></th>\n",
       "      <th>index</th>\n",
       "      <th>quality</th>\n",
       "      <th>fixed acidity</th>\n",
       "      <th>volatile acidity</th>\n",
       "      <th>citric acid</th>\n",
       "      <th>residual sugar</th>\n",
       "      <th>chlorides</th>\n",
       "      <th>free sulfur dioxide</th>\n",
       "      <th>total sulfur dioxide</th>\n",
       "      <th>density</th>\n",
       "      <th>pH</th>\n",
       "      <th>sulphates</th>\n",
       "      <th>alcohol</th>\n",
       "      <th>type</th>\n",
       "    </tr>\n",
       "  </thead>\n",
       "  <tbody>\n",
       "    <tr>\n",
       "      <th>0</th>\n",
       "      <td>0</td>\n",
       "      <td>5</td>\n",
       "      <td>5.6</td>\n",
       "      <td>0.695</td>\n",
       "      <td>0.06</td>\n",
       "      <td>6.8</td>\n",
       "      <td>0.042</td>\n",
       "      <td>9.0</td>\n",
       "      <td>84.0</td>\n",
       "      <td>0.99432</td>\n",
       "      <td>3.44</td>\n",
       "      <td>0.44</td>\n",
       "      <td>10.2</td>\n",
       "      <td>white</td>\n",
       "    </tr>\n",
       "    <tr>\n",
       "      <th>1</th>\n",
       "      <td>1</td>\n",
       "      <td>5</td>\n",
       "      <td>8.8</td>\n",
       "      <td>0.610</td>\n",
       "      <td>0.14</td>\n",
       "      <td>2.4</td>\n",
       "      <td>0.067</td>\n",
       "      <td>10.0</td>\n",
       "      <td>42.0</td>\n",
       "      <td>0.99690</td>\n",
       "      <td>3.19</td>\n",
       "      <td>0.59</td>\n",
       "      <td>9.5</td>\n",
       "      <td>red</td>\n",
       "    </tr>\n",
       "    <tr>\n",
       "      <th>2</th>\n",
       "      <td>2</td>\n",
       "      <td>5</td>\n",
       "      <td>7.9</td>\n",
       "      <td>0.210</td>\n",
       "      <td>0.39</td>\n",
       "      <td>2.0</td>\n",
       "      <td>0.057</td>\n",
       "      <td>21.0</td>\n",
       "      <td>138.0</td>\n",
       "      <td>0.99176</td>\n",
       "      <td>3.05</td>\n",
       "      <td>0.52</td>\n",
       "      <td>10.9</td>\n",
       "      <td>white</td>\n",
       "    </tr>\n",
       "    <tr>\n",
       "      <th>3</th>\n",
       "      <td>3</td>\n",
       "      <td>6</td>\n",
       "      <td>7.0</td>\n",
       "      <td>0.210</td>\n",
       "      <td>0.31</td>\n",
       "      <td>6.0</td>\n",
       "      <td>0.046</td>\n",
       "      <td>29.0</td>\n",
       "      <td>108.0</td>\n",
       "      <td>0.99390</td>\n",
       "      <td>3.26</td>\n",
       "      <td>0.50</td>\n",
       "      <td>10.8</td>\n",
       "      <td>white</td>\n",
       "    </tr>\n",
       "    <tr>\n",
       "      <th>4</th>\n",
       "      <td>4</td>\n",
       "      <td>6</td>\n",
       "      <td>7.8</td>\n",
       "      <td>0.400</td>\n",
       "      <td>0.26</td>\n",
       "      <td>9.5</td>\n",
       "      <td>0.059</td>\n",
       "      <td>32.0</td>\n",
       "      <td>178.0</td>\n",
       "      <td>0.99550</td>\n",
       "      <td>3.04</td>\n",
       "      <td>0.43</td>\n",
       "      <td>10.9</td>\n",
       "      <td>white</td>\n",
       "    </tr>\n",
       "  </tbody>\n",
       "</table>\n",
       "</div>"
      ],
      "text/plain": [
       "   index  quality  fixed acidity  volatile acidity  citric acid  \\\n",
       "0      0        5            5.6             0.695         0.06   \n",
       "1      1        5            8.8             0.610         0.14   \n",
       "2      2        5            7.9             0.210         0.39   \n",
       "3      3        6            7.0             0.210         0.31   \n",
       "4      4        6            7.8             0.400         0.26   \n",
       "\n",
       "   residual sugar  chlorides  free sulfur dioxide  total sulfur dioxide  \\\n",
       "0             6.8      0.042                  9.0                  84.0   \n",
       "1             2.4      0.067                 10.0                  42.0   \n",
       "2             2.0      0.057                 21.0                 138.0   \n",
       "3             6.0      0.046                 29.0                 108.0   \n",
       "4             9.5      0.059                 32.0                 178.0   \n",
       "\n",
       "   density    pH  sulphates  alcohol   type  \n",
       "0  0.99432  3.44       0.44     10.2  white  \n",
       "1  0.99690  3.19       0.59      9.5    red  \n",
       "2  0.99176  3.05       0.52     10.9  white  \n",
       "3  0.99390  3.26       0.50     10.8  white  \n",
       "4  0.99550  3.04       0.43     10.9  white  "
      ]
     },
     "execution_count": 3,
     "metadata": {},
     "output_type": "execute_result"
    }
   ],
   "source": [
    "train.head()"
   ]
  },
  {
   "cell_type": "code",
   "execution_count": 4,
   "id": "9434b994",
   "metadata": {},
   "outputs": [
    {
     "name": "stdout",
     "output_type": "stream",
     "text": [
      "<class 'pandas.core.frame.DataFrame'>\n",
      "RangeIndex: 5497 entries, 0 to 5496\n",
      "Data columns (total 14 columns):\n",
      " #   Column                Non-Null Count  Dtype  \n",
      "---  ------                --------------  -----  \n",
      " 0   index                 5497 non-null   int64  \n",
      " 1   quality               5497 non-null   int64  \n",
      " 2   fixed acidity         5497 non-null   float64\n",
      " 3   volatile acidity      5497 non-null   float64\n",
      " 4   citric acid           5497 non-null   float64\n",
      " 5   residual sugar        5497 non-null   float64\n",
      " 6   chlorides             5497 non-null   float64\n",
      " 7   free sulfur dioxide   5497 non-null   float64\n",
      " 8   total sulfur dioxide  5497 non-null   float64\n",
      " 9   density               5497 non-null   float64\n",
      " 10  pH                    5497 non-null   float64\n",
      " 11  sulphates             5497 non-null   float64\n",
      " 12  alcohol               5497 non-null   float64\n",
      " 13  type                  5497 non-null   object \n",
      "dtypes: float64(11), int64(2), object(1)\n",
      "memory usage: 601.4+ KB\n"
     ]
    }
   ],
   "source": [
    "train.info()"
   ]
  },
  {
   "cell_type": "code",
   "execution_count": 5,
   "id": "c3514f4b",
   "metadata": {},
   "outputs": [
    {
     "name": "stdout",
     "output_type": "stream",
     "text": [
      "<class 'pandas.core.frame.DataFrame'>\n",
      "RangeIndex: 1000 entries, 0 to 999\n",
      "Data columns (total 13 columns):\n",
      " #   Column                Non-Null Count  Dtype  \n",
      "---  ------                --------------  -----  \n",
      " 0   index                 1000 non-null   int64  \n",
      " 1   fixed acidity         1000 non-null   float64\n",
      " 2   volatile acidity      1000 non-null   float64\n",
      " 3   citric acid           1000 non-null   float64\n",
      " 4   residual sugar        1000 non-null   float64\n",
      " 5   chlorides             1000 non-null   float64\n",
      " 6   free sulfur dioxide   1000 non-null   float64\n",
      " 7   total sulfur dioxide  1000 non-null   float64\n",
      " 8   density               1000 non-null   float64\n",
      " 9   pH                    1000 non-null   float64\n",
      " 10  sulphates             1000 non-null   float64\n",
      " 11  alcohol               1000 non-null   float64\n",
      " 12  type                  1000 non-null   object \n",
      "dtypes: float64(11), int64(1), object(1)\n",
      "memory usage: 101.7+ KB\n"
     ]
    }
   ],
   "source": [
    "test.info()"
   ]
  },
  {
   "cell_type": "code",
   "execution_count": 6,
   "id": "7a2d231f",
   "metadata": {},
   "outputs": [
    {
     "data": {
      "text/plain": [
       "((5497, 14), (1000, 13))"
      ]
     },
     "execution_count": 6,
     "metadata": {},
     "output_type": "execute_result"
    }
   ],
   "source": [
    "train.shape, test.shape"
   ]
  },
  {
   "cell_type": "markdown",
   "id": "5c4f99ce",
   "metadata": {},
   "source": [
    "train 파일 정보와 test 파일 정보를 확인한 결과, quality 값이 target임을 알 수 있음\n",
    "\n",
    "또한, train 데이터와 test 데이터에 결측치가 없다는 것을 알 수 있음\n",
    "\n",
    "테스트 데이터에 quality 피처가 없으므로 모델 훈련 시에도 훈련 데이터의 quality 피처를 빼야 함"
   ]
  },
  {
   "cell_type": "code",
   "execution_count": 7,
   "id": "48006565",
   "metadata": {},
   "outputs": [
    {
     "name": "stdout",
     "output_type": "stream",
     "text": [
      "<class 'pandas.core.frame.DataFrame'>\n",
      "RangeIndex: 1000 entries, 0 to 999\n",
      "Data columns (total 2 columns):\n",
      " #   Column   Non-Null Count  Dtype\n",
      "---  ------   --------------  -----\n",
      " 0   index    1000 non-null   int64\n",
      " 1   quality  1000 non-null   int64\n",
      "dtypes: int64(2)\n",
      "memory usage: 15.8 KB\n"
     ]
    }
   ],
   "source": [
    "submission.info()"
   ]
  },
  {
   "cell_type": "markdown",
   "id": "7c6e44ed",
   "metadata": {},
   "source": [
    "index 값은 데이터를 구분하는 역할만 하기 때문에 타깃값 예측에는 아무런 도움을 주지 않으므로 모델 훈련 시 제거"
   ]
  },
  {
   "cell_type": "markdown",
   "id": "cb457cfe",
   "metadata": {},
   "source": [
    "### 2. 탐색적 데이터 분석"
   ]
  },
  {
   "cell_type": "markdown",
   "id": "f668596c",
   "metadata": {},
   "source": [
    "### -1. 데이터 시각화"
   ]
  },
  {
   "cell_type": "code",
   "execution_count": 8,
   "id": "d05228ed",
   "metadata": {},
   "outputs": [],
   "source": [
    "import numpy as np\n",
    "import seaborn as sns\n",
    "import matplotlib as mpl\n",
    "import matplotlib.pyplot as plt\n",
    "%matplotlib inline"
   ]
  },
  {
   "cell_type": "code",
   "execution_count": 9,
   "id": "49e6143f",
   "metadata": {
    "scrolled": false
   },
   "outputs": [
    {
     "data": {
      "text/plain": [
       "<AxesSubplot:xlabel='type', ylabel='count'>"
      ]
     },
     "execution_count": 9,
     "metadata": {},
     "output_type": "execute_result"
    },
    {
     "data": {
      "image/png": "[encoded data removed]",
      "text/plain": [
       "<Figure size 432x288 with 1 Axes>"
      ]
     },
     "metadata": {
      "needs_background": "light"
     },
     "output_type": "display_data"
    }
   ],
   "source": [
    "sns.countplot(x = 'type', data = train)"
   ]
  },
  {
   "cell_type": "markdown",
   "id": "a49b3dd6",
   "metadata": {},
   "source": [
    "type 피처는 범주형 데이터이므로 타깃 피처와의 상관관계를 파악하기 위해 수치형 데이터로 변환해야 함"
   ]
  },
  {
   "cell_type": "code",
   "execution_count": 10,
   "id": "01dd769b",
   "metadata": {},
   "outputs": [
    {
     "data": {
      "text/html": [
       "<div>\n",
       "<style scoped>\n",
       "    .dataframe tbody tr th:only-of-type {\n",
       "        vertical-align: middle;\n",
       "    }\n",
       "\n",
       "    .dataframe tbody tr th {\n",
       "        vertical-align: top;\n",
       "    }\n",
       "\n",
       "    .dataframe thead th {\n",
       "        text-align: right;\n",
       "    }\n",
       "</style>\n",
       "<table border=\"1\" class=\"dataframe\">\n",
       "  <thead>\n",
       "    <tr style=\"text-align: right;\">\n",
       "      <th></th>\n",
       "      <th>index</th>\n",
       "      <th>quality</th>\n",
       "      <th>fixed acidity</th>\n",
       "      <th>volatile acidity</th>\n",
       "      <th>citric acid</th>\n",
       "      <th>residual sugar</th>\n",
       "      <th>chlorides</th>\n",
       "      <th>free sulfur dioxide</th>\n",
       "      <th>total sulfur dioxide</th>\n",
       "      <th>density</th>\n",
       "      <th>pH</th>\n",
       "      <th>sulphates</th>\n",
       "      <th>alcohol</th>\n",
       "      <th>type</th>\n",
       "    </tr>\n",
       "  </thead>\n",
       "  <tbody>\n",
       "    <tr>\n",
       "      <th>0</th>\n",
       "      <td>0</td>\n",
       "      <td>5</td>\n",
       "      <td>5.6</td>\n",
       "      <td>0.695</td>\n",
       "      <td>0.06</td>\n",
       "      <td>6.8</td>\n",
       "      <td>0.042</td>\n",
       "      <td>9.0</td>\n",
       "      <td>84.0</td>\n",
       "      <td>0.99432</td>\n",
       "      <td>3.44</td>\n",
       "      <td>0.44</td>\n",
       "      <td>10.2</td>\n",
       "      <td>0</td>\n",
       "    </tr>\n",
       "    <tr>\n",
       "      <th>1</th>\n",
       "      <td>1</td>\n",
       "      <td>5</td>\n",
       "      <td>8.8</td>\n",
       "      <td>0.610</td>\n",
       "      <td>0.14</td>\n",
       "      <td>2.4</td>\n",
       "      <td>0.067</td>\n",
       "      <td>10.0</td>\n",
       "      <td>42.0</td>\n",
       "      <td>0.99690</td>\n",
       "      <td>3.19</td>\n",
       "      <td>0.59</td>\n",
       "      <td>9.5</td>\n",
       "      <td>1</td>\n",
       "    </tr>\n",
       "    <tr>\n",
       "      <th>2</th>\n",
       "      <td>2</td>\n",
       "      <td>5</td>\n",
       "      <td>7.9</td>\n",
       "      <td>0.210</td>\n",
       "      <td>0.39</td>\n",
       "      <td>2.0</td>\n",
       "      <td>0.057</td>\n",
       "      <td>21.0</td>\n",
       "      <td>138.0</td>\n",
       "      <td>0.99176</td>\n",
       "      <td>3.05</td>\n",
       "      <td>0.52</td>\n",
       "      <td>10.9</td>\n",
       "      <td>0</td>\n",
       "    </tr>\n",
       "    <tr>\n",
       "      <th>3</th>\n",
       "      <td>3</td>\n",
       "      <td>6</td>\n",
       "      <td>7.0</td>\n",
       "      <td>0.210</td>\n",
       "      <td>0.31</td>\n",
       "      <td>6.0</td>\n",
       "      <td>0.046</td>\n",
       "      <td>29.0</td>\n",
       "      <td>108.0</td>\n",
       "      <td>0.99390</td>\n",
       "      <td>3.26</td>\n",
       "      <td>0.50</td>\n",
       "      <td>10.8</td>\n",
       "      <td>0</td>\n",
       "    </tr>\n",
       "    <tr>\n",
       "      <th>4</th>\n",
       "      <td>4</td>\n",
       "      <td>6</td>\n",
       "      <td>7.8</td>\n",
       "      <td>0.400</td>\n",
       "      <td>0.26</td>\n",
       "      <td>9.5</td>\n",
       "      <td>0.059</td>\n",
       "      <td>32.0</td>\n",
       "      <td>178.0</td>\n",
       "      <td>0.99550</td>\n",
       "      <td>3.04</td>\n",
       "      <td>0.43</td>\n",
       "      <td>10.9</td>\n",
       "      <td>0</td>\n",
       "    </tr>\n",
       "  </tbody>\n",
       "</table>\n",
       "</div>"
      ],
      "text/plain": [
       "   index  quality  fixed acidity  volatile acidity  citric acid  \\\n",
       "0      0        5            5.6             0.695         0.06   \n",
       "1      1        5            8.8             0.610         0.14   \n",
       "2      2        5            7.9             0.210         0.39   \n",
       "3      3        6            7.0             0.210         0.31   \n",
       "4      4        6            7.8             0.400         0.26   \n",
       "\n",
       "   residual sugar  chlorides  free sulfur dioxide  total sulfur dioxide  \\\n",
       "0             6.8      0.042                  9.0                  84.0   \n",
       "1             2.4      0.067                 10.0                  42.0   \n",
       "2             2.0      0.057                 21.0                 138.0   \n",
       "3             6.0      0.046                 29.0                 108.0   \n",
       "4             9.5      0.059                 32.0                 178.0   \n",
       "\n",
       "   density    pH  sulphates  alcohol  type  \n",
       "0  0.99432  3.44       0.44     10.2     0  \n",
       "1  0.99690  3.19       0.59      9.5     1  \n",
       "2  0.99176  3.05       0.52     10.9     0  \n",
       "3  0.99390  3.26       0.50     10.8     0  \n",
       "4  0.99550  3.04       0.43     10.9     0  "
      ]
     },
     "execution_count": 10,
     "metadata": {},
     "output_type": "execute_result"
    }
   ],
   "source": [
    "train_check = train.copy()\n",
    "train_check['type'] = train_check['type'].map({'white':0,\n",
    "                                               'red': 1})\n",
    "train_check.head()"
   ]
  },
  {
   "cell_type": "code",
   "execution_count": 11,
   "id": "a538398a",
   "metadata": {},
   "outputs": [
    {
     "data": {
      "text/plain": [
       "<AxesSubplot:xlabel='type', ylabel='quality'>"
      ]
     },
     "execution_count": 11,
     "metadata": {},
     "output_type": "execute_result"
    },
    {
     "data": {
      "image/png": "[encoded data removed]",
      "text/plain": [
       "<Figure size 432x288 with 1 Axes>"
      ]
     },
     "metadata": {
      "needs_background": "light"
     },
     "output_type": "display_data"
    }
   ],
   "source": [
    "sns.barplot(data = train_check, x = 'type', y = 'quality')"
   ]
  },
  {
   "cell_type": "code",
   "execution_count": 12,
   "id": "e8c2b472",
   "metadata": {},
   "outputs": [
    {
     "data": {
      "text/plain": [
       "<AxesSubplot:xlabel='quality', ylabel='count'>"
      ]
     },
     "execution_count": 12,
     "metadata": {},
     "output_type": "execute_result"
    },
    {
     "data": {
      "image/png": "[encoded data removed]",
      "text/plain": [
       "<Figure size 432x288 with 1 Axes>"
      ]
     },
     "metadata": {
      "needs_background": "light"
     },
     "output_type": "display_data"
    }
   ],
   "source": [
    "#타깃값의 분포도 그리기\n",
    "\n",
    "mpl.rc('font', size = 15)\n",
    "sns.countplot(x = 'quality', data = train)"
   ]
  },
  {
   "cell_type": "code",
   "execution_count": 13,
   "id": "b29b06eb",
   "metadata": {},
   "outputs": [
    {
     "data": {
      "text/plain": [
       "6    2416\n",
       "5    1788\n",
       "7     924\n",
       "4     186\n",
       "8     152\n",
       "3      26\n",
       "9       5\n",
       "Name: quality, dtype: int64"
      ]
     },
     "execution_count": 13,
     "metadata": {},
     "output_type": "execute_result"
    }
   ],
   "source": [
    "train['quality'].value_counts()"
   ]
  },
  {
   "cell_type": "markdown",
   "id": "d1ad3315",
   "metadata": {},
   "source": [
    "타깃 피처인 quality는 3부터 9까지 존재하며, 정규분포를 따르고 있으므로 로그변환할 필요 없음"
   ]
  },
  {
   "cell_type": "code",
   "execution_count": 14,
   "id": "079b6134",
   "metadata": {},
   "outputs": [
    {
     "data": {
      "image/png": "[encoded data removed]",
      "text/plain": [
       "<Figure size 1440x1080 with 11 Axes>"
      ]
     },
     "metadata": {},
     "output_type": "display_data"
    }
   ],
   "source": [
    "plt.style.use(\"ggplot\")\n",
    "\n",
    "plt.figure(figsize=(20,15))\n",
    "\n",
    "# id, type, quality는 제외하고 시각화\n",
    "cols = train.columns[1:-2]\n",
    "for i in range(len(cols)):\n",
    "    plt.subplot(3,4,i+1)\n",
    "    plt.title(cols[i])\n",
    "    plt.boxplot(train[cols[i]])\n",
    "plt.show()"
   ]
  },
  {
   "cell_type": "code",
   "execution_count": 15,
   "id": "8a16b44b",
   "metadata": {},
   "outputs": [
    {
     "data": {
      "text/plain": [
       "<AxesSubplot:xlabel='density', ylabel='quality'>"
      ]
     },
     "execution_count": 15,
     "metadata": {},
     "output_type": "execute_result"
    },
    {
     "data": {
      "image/png": "[encoded data removed]",
      "text/plain": [
       "<Figure size 720x720 with 6 Axes>"
      ]
     },
     "metadata": {},
     "output_type": "display_data"
    }
   ],
   "source": [
    "figure, axes = plt.subplots(nrows = 3, ncols = 2)\n",
    "plt.tight_layout()\n",
    "figure.set_size_inches(10, 10)\n",
    "\n",
    "sns.lineplot(x='citric acid', y = 'quality', data = train, ax = axes[0, 0])\n",
    "sns.rugplot(x='citric acid', y = 'quality', data = train, ax = axes[0, 0])\n",
    "sns.lineplot(x='residual sugar', y = 'quality', data = train, ax = axes[0, 1])\n",
    "sns.rugplot(x='residual sugar', y = 'quality', data = train, ax = axes[0, 1])\n",
    "sns.lineplot(x='chlorides', y = 'quality', data = train, ax = axes[1, 0])\n",
    "sns.rugplot(x='chlorides', y = 'quality', data = train, ax = axes[1, 0])\n",
    "sns.lineplot(x='free sulfur dioxide', y = 'quality', data = train, ax = axes[1, 1])\n",
    "sns.rugplot(x='free sulfur dioxide', y = 'quality', data = train, ax = axes[1, 1])\n",
    "sns.lineplot(x='density', y = 'quality', data = train, ax = axes[2, 0])\n",
    "sns.rugplot(x='density', y = 'quality', data = train, ax = axes[2, 0])"
   ]
  },
  {
   "cell_type": "markdown",
   "id": "0c5598c4",
   "metadata": {},
   "source": [
    "타깃값과 각 변수들이 어떤 상관관계를 갖는지 알아보기"
   ]
  },
  {
   "cell_type": "code",
   "execution_count": 16,
   "id": "ad0242f6",
   "metadata": {
    "scrolled": false
   },
   "outputs": [
    {
     "data": {
      "text/plain": [
       "<AxesSubplot:>"
      ]
     },
     "execution_count": 16,
     "metadata": {},
     "output_type": "execute_result"
    },
    {
     "data": {
      "image/png": "[encoded data removed]",
      "text/plain": [
       "<Figure size 1080x1080 with 2 Axes>"
      ]
     },
     "metadata": {},
     "output_type": "display_data"
    }
   ],
   "source": [
    "corrmat = train[['quality', 'fixed acidity', 'volatile acidity', 'citric acid', 'residual sugar', 'chlorides', 'free sulfur dioxide', 'total sulfur dioxide', 'density', 'pH', 'sulphates', 'alcohol', 'type']].corr()\n",
    "fig, ax = plt.subplots()\n",
    "fig.set_size_inches(15, 15)\n",
    "sns.heatmap(corrmat, annot=True,vmin=-1.0,vmax=1.0, cmap = 'RdBu')"
   ]
  },
  {
   "cell_type": "markdown",
   "id": "5142a7e1",
   "metadata": {},
   "source": [
    "타깃변수와 상관관계가 있다고 판단되는 피처에 이상치가 있는지 확인하기"
   ]
  },
  {
   "cell_type": "code",
   "execution_count": 17,
   "id": "a0211c9c",
   "metadata": {},
   "outputs": [],
   "source": [
    "#이상치를 확인하는 함수\n",
    "\n",
    "def outlier_iqr(data, column): \n",
    "\n",
    "    # lower, upper 글로벌 변수 선언하기     \n",
    "    global lower, upper    \n",
    "    \n",
    "    # 4분위수 기준 지정하기     \n",
    "    Q1, Q3 = np.quantile(data[column], 0.25), np.quantile(data[column], 0.75)          \n",
    "    \n",
    "    # IQR 계산하기     \n",
    "    iqr = Q3 - Q1    \n",
    "    \n",
    "    # outlier cutoff 계산하기     \n",
    "    cut_off = iqr * 1.5          \n",
    "    \n",
    "    # lower와 upper bound 값 구하기     \n",
    "    lower, upper = Q1 - cut_off, Q3 + cut_off     \n",
    "    \n",
    "    print('IQR은',iqr, '이다.')     \n",
    "    print('lower bound 값은', lower, '이다.')     \n",
    "    print('upper bound 값은', upper, '이다.')    \n",
    "    \n",
    "    # 1사 분위와 4사 분위에 속해있는 데이터 각각 저장하기     \n",
    "    data1 = data[data[column] > upper]     \n",
    "    data2 = data[data[column] < lower]    \n",
    "    \n",
    "    # 이상치 총 개수 구하기\n",
    "    return print('총 이상치 개수는', data1.shape[0] + data2.shape[0], '이다.')"
   ]
  },
  {
   "cell_type": "markdown",
   "id": "d936afac",
   "metadata": {},
   "source": [
    "히트맵을 통해 타깃값과 상관계수의 크기가 0.2 이상인 피처들의 이상치 확인하기"
   ]
  },
  {
   "cell_type": "code",
   "execution_count": 18,
   "id": "2e6d560d",
   "metadata": {},
   "outputs": [
    {
     "name": "stdout",
     "output_type": "stream",
     "text": [
      "IQR은 0.17 이다.\n",
      "lower bound 값은 -0.024999999999999994 이다.\n",
      "upper bound 값은 0.655 이다.\n",
      "총 이상치 개수는 314 이다.\n"
     ]
    }
   ],
   "source": [
    "outlier_iqr(train_check, 'volatile acidity')"
   ]
  },
  {
   "cell_type": "code",
   "execution_count": 19,
   "id": "0bfe024a",
   "metadata": {},
   "outputs": [
    {
     "data": {
      "image/png": "[encoded data removed]",
      "text/plain": [
       "<Figure size 360x360 with 1 Axes>"
      ]
     },
     "metadata": {},
     "output_type": "display_data"
    }
   ],
   "source": [
    "plt.figure(figsize=(5,5))\n",
    "plt.hist(train['volatile acidity'], bins=50)\n",
    "plt.title('Volatile Acidity Histogram')\n",
    "plt.show()"
   ]
  },
  {
   "cell_type": "code",
   "execution_count": 20,
   "id": "f323359f",
   "metadata": {},
   "outputs": [
    {
     "name": "stdout",
     "output_type": "stream",
     "text": [
      "IQR은 0.004630000000000023 이다.\n",
      "lower bound 값은 0.985355 이다.\n",
      "upper bound 값은 1.003875 이다.\n",
      "총 이상치 개수는 3 이다.\n"
     ]
    }
   ],
   "source": [
    "outlier_iqr(train_check, 'density')"
   ]
  },
  {
   "cell_type": "code",
   "execution_count": 21,
   "id": "ed0d60c1",
   "metadata": {},
   "outputs": [
    {
     "data": {
      "image/png": "[encoded data removed]",
      "text/plain": [
       "<Figure size 360x360 with 1 Axes>"
      ]
     },
     "metadata": {},
     "output_type": "display_data"
    }
   ],
   "source": [
    "plt.figure(figsize=(5,5))\n",
    "plt.hist(train['density'], bins=50)\n",
    "plt.title('Density Histogram')\n",
    "plt.show()"
   ]
  },
  {
   "cell_type": "code",
   "execution_count": 22,
   "id": "2033cc50",
   "metadata": {},
   "outputs": [
    {
     "name": "stdout",
     "output_type": "stream",
     "text": [
      "IQR은 0.026000000000000002 이다.\n",
      "lower bound 값은 -0.0010000000000000078 이다.\n",
      "upper bound 값은 0.10300000000000001 이다.\n",
      "총 이상치 개수는 259 이다.\n"
     ]
    }
   ],
   "source": [
    "outlier_iqr(train_check, 'chlorides')"
   ]
  },
  {
   "cell_type": "code",
   "execution_count": 23,
   "id": "5c0887de",
   "metadata": {},
   "outputs": [
    {
     "data": {
      "image/png": "[encoded data removed]",
      "text/plain": [
       "<Figure size 360x360 with 1 Axes>"
      ]
     },
     "metadata": {},
     "output_type": "display_data"
    }
   ],
   "source": [
    "plt.figure(figsize=(5,5))\n",
    "plt.hist(train['chlorides'], bins=50)\n",
    "plt.title('Chlorides Histogram')\n",
    "plt.show()"
   ]
  },
  {
   "cell_type": "code",
   "execution_count": 24,
   "id": "3d4a4c90",
   "metadata": {},
   "outputs": [
    {
     "name": "stdout",
     "output_type": "stream",
     "text": [
      "IQR은 1.8000000000000007 이다.\n",
      "lower bound 값은 6.799999999999999 이다.\n",
      "upper bound 값은 14.000000000000002 이다.\n",
      "총 이상치 개수는 3 이다.\n"
     ]
    }
   ],
   "source": [
    "outlier_iqr(train_check, 'alcohol')"
   ]
  },
  {
   "cell_type": "code",
   "execution_count": 25,
   "id": "bab7c1d7",
   "metadata": {},
   "outputs": [
    {
     "data": {
      "image/png": "[encoded data removed]",
      "text/plain": [
       "<Figure size 360x360 with 1 Axes>"
      ]
     },
     "metadata": {},
     "output_type": "display_data"
    }
   ],
   "source": [
    "plt.figure(figsize=(5,5))\n",
    "plt.hist(train['alcohol'], bins=50)\n",
    "plt.title('Alcohol Histogram')\n",
    "plt.show()"
   ]
  },
  {
   "cell_type": "markdown",
   "id": "7579cdb0",
   "metadata": {},
   "source": [
    "타깃값과 다소 높은 상관관계를 보였던 값들 중 volatile acidity, density, chlorides의 분포를 확인했을 때 치우친 분포가 나타남\n",
    "\n",
    "따라서 로그 스케일 과정이 필요하며, 각 피처들의 분포가 다양하기 때문에 피처스케일링 필요함\n",
    "\n",
    "그 후에도 이상치에 변함이 없다면, quality와 다소 높은 상관관계를 보이는 변수의 이상치를 제거해줘야 함\n",
    "\n",
    "type 피처는 범주형 데이터이므로 타깃 피처와의 상관관계를 파악하기 위해 수치형 데이터로 변환해야 함\n",
    "\n",
    "index 변수는 타깃값을 예측하는데 도움이 되지 않는 피처이므로 제거해야 함 (후에 제출시, 값을 구분하는 변수로 활용)"
   ]
  },
  {
   "cell_type": "markdown",
   "id": "36c8dc3e",
   "metadata": {},
   "source": [
    "### 3. 모델 훈련"
   ]
  },
  {
   "cell_type": "markdown",
   "id": "8eac09c6",
   "metadata": {},
   "source": [
    "### -1. 훈련을 위한 데이터 만들기"
   ]
  },
  {
   "cell_type": "code",
   "execution_count": 43,
   "id": "d286ac59",
   "metadata": {},
   "outputs": [
    {
     "data": {
      "text/html": [
       "<div>\n",
       "<style scoped>\n",
       "    .dataframe tbody tr th:only-of-type {\n",
       "        vertical-align: middle;\n",
       "    }\n",
       "\n",
       "    .dataframe tbody tr th {\n",
       "        vertical-align: top;\n",
       "    }\n",
       "\n",
       "    .dataframe thead th {\n",
       "        text-align: right;\n",
       "    }\n",
       "</style>\n",
       "<table border=\"1\" class=\"dataframe\">\n",
       "  <thead>\n",
       "    <tr style=\"text-align: right;\">\n",
       "      <th></th>\n",
       "      <th>index</th>\n",
       "      <th>fixed acidity</th>\n",
       "      <th>volatile acidity</th>\n",
       "      <th>citric acid</th>\n",
       "      <th>residual sugar</th>\n",
       "      <th>chlorides</th>\n",
       "      <th>free sulfur dioxide</th>\n",
       "      <th>total sulfur dioxide</th>\n",
       "      <th>density</th>\n",
       "      <th>pH</th>\n",
       "      <th>sulphates</th>\n",
       "      <th>alcohol</th>\n",
       "      <th>type</th>\n",
       "    </tr>\n",
       "  </thead>\n",
       "  <tbody>\n",
       "    <tr>\n",
       "      <th>0</th>\n",
       "      <td>0</td>\n",
       "      <td>1.722767</td>\n",
       "      <td>-0.363843</td>\n",
       "      <td>0.244949</td>\n",
       "      <td>1.916923</td>\n",
       "      <td>-3.170086</td>\n",
       "      <td>2.197225</td>\n",
       "      <td>84.0</td>\n",
       "      <td>-0.005696</td>\n",
       "      <td>1.235471</td>\n",
       "      <td>-0.820981</td>\n",
       "      <td>2.322388</td>\n",
       "      <td>white</td>\n",
       "    </tr>\n",
       "    <tr>\n",
       "      <th>1</th>\n",
       "      <td>1</td>\n",
       "      <td>2.174752</td>\n",
       "      <td>-0.494296</td>\n",
       "      <td>0.374166</td>\n",
       "      <td>0.875469</td>\n",
       "      <td>-2.703063</td>\n",
       "      <td>2.302585</td>\n",
       "      <td>42.0</td>\n",
       "      <td>-0.003105</td>\n",
       "      <td>1.160021</td>\n",
       "      <td>-0.527633</td>\n",
       "      <td>2.251292</td>\n",
       "      <td>red</td>\n",
       "    </tr>\n",
       "    <tr>\n",
       "      <th>2</th>\n",
       "      <td>2</td>\n",
       "      <td>2.066863</td>\n",
       "      <td>-1.560648</td>\n",
       "      <td>0.624500</td>\n",
       "      <td>0.693147</td>\n",
       "      <td>-2.864704</td>\n",
       "      <td>3.044522</td>\n",
       "      <td>138.0</td>\n",
       "      <td>-0.008274</td>\n",
       "      <td>1.115142</td>\n",
       "      <td>-0.653926</td>\n",
       "      <td>2.388763</td>\n",
       "      <td>white</td>\n",
       "    </tr>\n",
       "    <tr>\n",
       "      <th>3</th>\n",
       "      <td>3</td>\n",
       "      <td>1.945910</td>\n",
       "      <td>-1.560648</td>\n",
       "      <td>0.556776</td>\n",
       "      <td>1.791759</td>\n",
       "      <td>-3.079114</td>\n",
       "      <td>3.367296</td>\n",
       "      <td>108.0</td>\n",
       "      <td>-0.006119</td>\n",
       "      <td>1.181727</td>\n",
       "      <td>-0.693147</td>\n",
       "      <td>2.379546</td>\n",
       "      <td>white</td>\n",
       "    </tr>\n",
       "    <tr>\n",
       "      <th>4</th>\n",
       "      <td>4</td>\n",
       "      <td>2.054124</td>\n",
       "      <td>-0.916291</td>\n",
       "      <td>0.509902</td>\n",
       "      <td>2.251292</td>\n",
       "      <td>-2.830218</td>\n",
       "      <td>3.465736</td>\n",
       "      <td>178.0</td>\n",
       "      <td>-0.004510</td>\n",
       "      <td>1.111858</td>\n",
       "      <td>-0.843970</td>\n",
       "      <td>2.388763</td>\n",
       "      <td>white</td>\n",
       "    </tr>\n",
       "    <tr>\n",
       "      <th>...</th>\n",
       "      <td>...</td>\n",
       "      <td>...</td>\n",
       "      <td>...</td>\n",
       "      <td>...</td>\n",
       "      <td>...</td>\n",
       "      <td>...</td>\n",
       "      <td>...</td>\n",
       "      <td>...</td>\n",
       "      <td>...</td>\n",
       "      <td>...</td>\n",
       "      <td>...</td>\n",
       "      <td>...</td>\n",
       "      <td>...</td>\n",
       "    </tr>\n",
       "    <tr>\n",
       "      <th>6492</th>\n",
       "      <td>995</td>\n",
       "      <td>7.100000</td>\n",
       "      <td>0.590000</td>\n",
       "      <td>0.020000</td>\n",
       "      <td>2.300000</td>\n",
       "      <td>0.082000</td>\n",
       "      <td>24.000000</td>\n",
       "      <td>94.0</td>\n",
       "      <td>0.997440</td>\n",
       "      <td>3.550000</td>\n",
       "      <td>0.530000</td>\n",
       "      <td>9.700000</td>\n",
       "      <td>red</td>\n",
       "    </tr>\n",
       "    <tr>\n",
       "      <th>6493</th>\n",
       "      <td>996</td>\n",
       "      <td>8.700000</td>\n",
       "      <td>0.150000</td>\n",
       "      <td>0.300000</td>\n",
       "      <td>1.600000</td>\n",
       "      <td>0.046000</td>\n",
       "      <td>29.000000</td>\n",
       "      <td>130.0</td>\n",
       "      <td>0.994200</td>\n",
       "      <td>3.220000</td>\n",
       "      <td>0.380000</td>\n",
       "      <td>9.800000</td>\n",
       "      <td>white</td>\n",
       "    </tr>\n",
       "    <tr>\n",
       "      <th>6494</th>\n",
       "      <td>997</td>\n",
       "      <td>8.800000</td>\n",
       "      <td>0.660000</td>\n",
       "      <td>0.260000</td>\n",
       "      <td>1.700000</td>\n",
       "      <td>0.074000</td>\n",
       "      <td>4.000000</td>\n",
       "      <td>23.0</td>\n",
       "      <td>0.997100</td>\n",
       "      <td>3.150000</td>\n",
       "      <td>0.740000</td>\n",
       "      <td>9.200000</td>\n",
       "      <td>red</td>\n",
       "    </tr>\n",
       "    <tr>\n",
       "      <th>6495</th>\n",
       "      <td>998</td>\n",
       "      <td>7.000000</td>\n",
       "      <td>0.420000</td>\n",
       "      <td>0.190000</td>\n",
       "      <td>2.300000</td>\n",
       "      <td>0.071000</td>\n",
       "      <td>18.000000</td>\n",
       "      <td>36.0</td>\n",
       "      <td>0.994760</td>\n",
       "      <td>3.390000</td>\n",
       "      <td>0.560000</td>\n",
       "      <td>10.900000</td>\n",
       "      <td>red</td>\n",
       "    </tr>\n",
       "    <tr>\n",
       "      <th>6496</th>\n",
       "      <td>999</td>\n",
       "      <td>8.500000</td>\n",
       "      <td>0.210000</td>\n",
       "      <td>0.260000</td>\n",
       "      <td>9.250000</td>\n",
       "      <td>0.034000</td>\n",
       "      <td>73.000000</td>\n",
       "      <td>142.0</td>\n",
       "      <td>0.994500</td>\n",
       "      <td>3.050000</td>\n",
       "      <td>0.370000</td>\n",
       "      <td>11.400000</td>\n",
       "      <td>white</td>\n",
       "    </tr>\n",
       "  </tbody>\n",
       "</table>\n",
       "<p>6497 rows × 13 columns</p>\n",
       "</div>"
      ],
      "text/plain": [
       "      index  fixed acidity  volatile acidity  citric acid  residual sugar  \\\n",
       "0         0       1.722767         -0.363843     0.244949        1.916923   \n",
       "1         1       2.174752         -0.494296     0.374166        0.875469   \n",
       "2         2       2.066863         -1.560648     0.624500        0.693147   \n",
       "3         3       1.945910         -1.560648     0.556776        1.791759   \n",
       "4         4       2.054124         -0.916291     0.509902        2.251292   \n",
       "...     ...            ...               ...          ...             ...   \n",
       "6492    995       7.100000          0.590000     0.020000        2.300000   \n",
       "6493    996       8.700000          0.150000     0.300000        1.600000   \n",
       "6494    997       8.800000          0.660000     0.260000        1.700000   \n",
       "6495    998       7.000000          0.420000     0.190000        2.300000   \n",
       "6496    999       8.500000          0.210000     0.260000        9.250000   \n",
       "\n",
       "      chlorides  free sulfur dioxide  total sulfur dioxide   density  \\\n",
       "0     -3.170086             2.197225                  84.0 -0.005696   \n",
       "1     -2.703063             2.302585                  42.0 -0.003105   \n",
       "2     -2.864704             3.044522                 138.0 -0.008274   \n",
       "3     -3.079114             3.367296                 108.0 -0.006119   \n",
       "4     -2.830218             3.465736                 178.0 -0.004510   \n",
       "...         ...                  ...                   ...       ...   \n",
       "6492   0.082000            24.000000                  94.0  0.997440   \n",
       "6493   0.046000            29.000000                 130.0  0.994200   \n",
       "6494   0.074000             4.000000                  23.0  0.997100   \n",
       "6495   0.071000            18.000000                  36.0  0.994760   \n",
       "6496   0.034000            73.000000                 142.0  0.994500   \n",
       "\n",
       "            pH  sulphates    alcohol   type  \n",
       "0     1.235471  -0.820981   2.322388  white  \n",
       "1     1.160021  -0.527633   2.251292    red  \n",
       "2     1.115142  -0.653926   2.388763  white  \n",
       "3     1.181727  -0.693147   2.379546  white  \n",
       "4     1.111858  -0.843970   2.388763  white  \n",
       "...        ...        ...        ...    ...  \n",
       "6492  3.550000   0.530000   9.700000    red  \n",
       "6493  3.220000   0.380000   9.800000  white  \n",
       "6494  3.150000   0.740000   9.200000    red  \n",
       "6495  3.390000   0.560000  10.900000    red  \n",
       "6496  3.050000   0.370000  11.400000  white  \n",
       "\n",
       "[6497 rows x 13 columns]"
      ]
     },
     "execution_count": 43,
     "metadata": {},
     "output_type": "execute_result"
    }
   ],
   "source": [
    "all_data = pd.concat([train, test], ignore_index = True)\n",
    "all_data = all_data.drop('quality', axis=1) \n",
    "all_data"
   ]
  },
  {
   "cell_type": "markdown",
   "id": "c189bd8d",
   "metadata": {},
   "source": [
    "#### 로그 스케일"
   ]
  },
  {
   "cell_type": "code",
   "execution_count": 27,
   "id": "476a215a",
   "metadata": {},
   "outputs": [
    {
     "data": {
      "image/png": "[encoded data removed]",
      "text/plain": [
       "<Figure size 360x360 with 1 Axes>"
      ]
     },
     "metadata": {},
     "output_type": "display_data"
    }
   ],
   "source": [
    "#chlorides, volatile acidity, density 로그 스케일 결과\n",
    "log_chlorides = np.log(all_data['chlorides'])\n",
    "\n",
    "plt.figure(figsize=(5,5))\n",
    "plt.hist(log_chlorides, bins=50)\n",
    "plt.title('Chlorides Histogram with logarithm')\n",
    "plt.show()"
   ]
  },
  {
   "cell_type": "code",
   "execution_count": 28,
   "id": "4135844a",
   "metadata": {},
   "outputs": [
    {
     "data": {
      "image/png": "[encoded data removed]",
      "text/plain": [
       "<Figure size 360x360 with 1 Axes>"
      ]
     },
     "metadata": {},
     "output_type": "display_data"
    }
   ],
   "source": [
    "log_va = np.log(all_data['volatile acidity'])\n",
    "\n",
    "plt.figure(figsize=(5,5))\n",
    "plt.hist(log_va, bins=50)\n",
    "plt.title('Volatile Acidity Histogram with logarithm')\n",
    "plt.show()"
   ]
  },
  {
   "cell_type": "code",
   "execution_count": 29,
   "id": "10a48517",
   "metadata": {},
   "outputs": [
    {
     "data": {
      "image/png": "[encoded data removed]",
      "text/plain": [
       "<Figure size 360x360 with 1 Axes>"
      ]
     },
     "metadata": {},
     "output_type": "display_data"
    }
   ],
   "source": [
    "log_density = np.log(all_data['density'])\n",
    "\n",
    "plt.figure(figsize=(5,5))\n",
    "plt.hist(log_density, bins=50)\n",
    "plt.title('Density Histogram with logarithm')\n",
    "plt.show()"
   ]
  },
  {
   "cell_type": "code",
   "execution_count": 30,
   "id": "dcb68ba1",
   "metadata": {},
   "outputs": [
    {
     "data": {
      "text/html": [
       "<div>\n",
       "<style scoped>\n",
       "    .dataframe tbody tr th:only-of-type {\n",
       "        vertical-align: middle;\n",
       "    }\n",
       "\n",
       "    .dataframe tbody tr th {\n",
       "        vertical-align: top;\n",
       "    }\n",
       "\n",
       "    .dataframe thead th {\n",
       "        text-align: right;\n",
       "    }\n",
       "</style>\n",
       "<table border=\"1\" class=\"dataframe\">\n",
       "  <thead>\n",
       "    <tr style=\"text-align: right;\">\n",
       "      <th></th>\n",
       "      <th>index</th>\n",
       "      <th>quality</th>\n",
       "      <th>fixed acidity</th>\n",
       "      <th>volatile acidity</th>\n",
       "      <th>citric acid</th>\n",
       "      <th>residual sugar</th>\n",
       "      <th>chlorides</th>\n",
       "      <th>free sulfur dioxide</th>\n",
       "      <th>total sulfur dioxide</th>\n",
       "      <th>density</th>\n",
       "      <th>pH</th>\n",
       "      <th>sulphates</th>\n",
       "      <th>alcohol</th>\n",
       "      <th>type</th>\n",
       "    </tr>\n",
       "  </thead>\n",
       "  <tbody>\n",
       "    <tr>\n",
       "      <th>0</th>\n",
       "      <td>0</td>\n",
       "      <td>5</td>\n",
       "      <td>1.722767</td>\n",
       "      <td>-0.363843</td>\n",
       "      <td>0.244949</td>\n",
       "      <td>1.916923</td>\n",
       "      <td>-3.170086</td>\n",
       "      <td>2.197225</td>\n",
       "      <td>84.0</td>\n",
       "      <td>-0.005696</td>\n",
       "      <td>1.235471</td>\n",
       "      <td>-0.820981</td>\n",
       "      <td>2.322388</td>\n",
       "      <td>white</td>\n",
       "    </tr>\n",
       "    <tr>\n",
       "      <th>1</th>\n",
       "      <td>1</td>\n",
       "      <td>5</td>\n",
       "      <td>2.174752</td>\n",
       "      <td>-0.494296</td>\n",
       "      <td>0.374166</td>\n",
       "      <td>0.875469</td>\n",
       "      <td>-2.703063</td>\n",
       "      <td>2.302585</td>\n",
       "      <td>42.0</td>\n",
       "      <td>-0.003105</td>\n",
       "      <td>1.160021</td>\n",
       "      <td>-0.527633</td>\n",
       "      <td>2.251292</td>\n",
       "      <td>red</td>\n",
       "    </tr>\n",
       "    <tr>\n",
       "      <th>2</th>\n",
       "      <td>2</td>\n",
       "      <td>5</td>\n",
       "      <td>2.066863</td>\n",
       "      <td>-1.560648</td>\n",
       "      <td>0.624500</td>\n",
       "      <td>0.693147</td>\n",
       "      <td>-2.864704</td>\n",
       "      <td>3.044522</td>\n",
       "      <td>138.0</td>\n",
       "      <td>-0.008274</td>\n",
       "      <td>1.115142</td>\n",
       "      <td>-0.653926</td>\n",
       "      <td>2.388763</td>\n",
       "      <td>white</td>\n",
       "    </tr>\n",
       "    <tr>\n",
       "      <th>3</th>\n",
       "      <td>3</td>\n",
       "      <td>6</td>\n",
       "      <td>1.945910</td>\n",
       "      <td>-1.560648</td>\n",
       "      <td>0.556776</td>\n",
       "      <td>1.791759</td>\n",
       "      <td>-3.079114</td>\n",
       "      <td>3.367296</td>\n",
       "      <td>108.0</td>\n",
       "      <td>-0.006119</td>\n",
       "      <td>1.181727</td>\n",
       "      <td>-0.693147</td>\n",
       "      <td>2.379546</td>\n",
       "      <td>white</td>\n",
       "    </tr>\n",
       "    <tr>\n",
       "      <th>4</th>\n",
       "      <td>4</td>\n",
       "      <td>6</td>\n",
       "      <td>2.054124</td>\n",
       "      <td>-0.916291</td>\n",
       "      <td>0.509902</td>\n",
       "      <td>2.251292</td>\n",
       "      <td>-2.830218</td>\n",
       "      <td>3.465736</td>\n",
       "      <td>178.0</td>\n",
       "      <td>-0.004510</td>\n",
       "      <td>1.111858</td>\n",
       "      <td>-0.843970</td>\n",
       "      <td>2.388763</td>\n",
       "      <td>white</td>\n",
       "    </tr>\n",
       "    <tr>\n",
       "      <th>...</th>\n",
       "      <td>...</td>\n",
       "      <td>...</td>\n",
       "      <td>...</td>\n",
       "      <td>...</td>\n",
       "      <td>...</td>\n",
       "      <td>...</td>\n",
       "      <td>...</td>\n",
       "      <td>...</td>\n",
       "      <td>...</td>\n",
       "      <td>...</td>\n",
       "      <td>...</td>\n",
       "      <td>...</td>\n",
       "      <td>...</td>\n",
       "      <td>...</td>\n",
       "    </tr>\n",
       "    <tr>\n",
       "      <th>5492</th>\n",
       "      <td>5492</td>\n",
       "      <td>5</td>\n",
       "      <td>2.041220</td>\n",
       "      <td>-1.897120</td>\n",
       "      <td>0.538516</td>\n",
       "      <td>0.262364</td>\n",
       "      <td>-3.540459</td>\n",
       "      <td>2.302585</td>\n",
       "      <td>64.0</td>\n",
       "      <td>-0.006823</td>\n",
       "      <td>1.208960</td>\n",
       "      <td>-0.941609</td>\n",
       "      <td>2.312535</td>\n",
       "      <td>white</td>\n",
       "    </tr>\n",
       "    <tr>\n",
       "      <th>5493</th>\n",
       "      <td>5493</td>\n",
       "      <td>6</td>\n",
       "      <td>1.840550</td>\n",
       "      <td>-1.714798</td>\n",
       "      <td>0.600000</td>\n",
       "      <td>0.182322</td>\n",
       "      <td>-3.381395</td>\n",
       "      <td>3.258097</td>\n",
       "      <td>111.0</td>\n",
       "      <td>-0.009303</td>\n",
       "      <td>1.150572</td>\n",
       "      <td>-0.673345</td>\n",
       "      <td>2.397895</td>\n",
       "      <td>white</td>\n",
       "    </tr>\n",
       "    <tr>\n",
       "      <th>5494</th>\n",
       "      <td>5494</td>\n",
       "      <td>7</td>\n",
       "      <td>2.054124</td>\n",
       "      <td>-1.897120</td>\n",
       "      <td>0.583095</td>\n",
       "      <td>0.095310</td>\n",
       "      <td>-3.352407</td>\n",
       "      <td>3.433987</td>\n",
       "      <td>93.0</td>\n",
       "      <td>-0.009081</td>\n",
       "      <td>1.121678</td>\n",
       "      <td>-0.328504</td>\n",
       "      <td>2.424803</td>\n",
       "      <td>white</td>\n",
       "    </tr>\n",
       "    <tr>\n",
       "      <th>5495</th>\n",
       "      <td>5495</td>\n",
       "      <td>5</td>\n",
       "      <td>1.887070</td>\n",
       "      <td>-0.891598</td>\n",
       "      <td>0.556776</td>\n",
       "      <td>0.470004</td>\n",
       "      <td>-3.170086</td>\n",
       "      <td>2.890372</td>\n",
       "      <td>101.0</td>\n",
       "      <td>-0.008083</td>\n",
       "      <td>1.141033</td>\n",
       "      <td>-0.891598</td>\n",
       "      <td>2.351375</td>\n",
       "      <td>white</td>\n",
       "    </tr>\n",
       "    <tr>\n",
       "      <th>5496</th>\n",
       "      <td>5496</td>\n",
       "      <td>6</td>\n",
       "      <td>1.945910</td>\n",
       "      <td>-1.049822</td>\n",
       "      <td>0.412311</td>\n",
       "      <td>0.095310</td>\n",
       "      <td>-3.015935</td>\n",
       "      <td>1.945910</td>\n",
       "      <td>119.0</td>\n",
       "      <td>-0.007055</td>\n",
       "      <td>1.141033</td>\n",
       "      <td>-1.021651</td>\n",
       "      <td>2.272126</td>\n",
       "      <td>white</td>\n",
       "    </tr>\n",
       "  </tbody>\n",
       "</table>\n",
       "<p>5497 rows × 14 columns</p>\n",
       "</div>"
      ],
      "text/plain": [
       "      index  quality  fixed acidity  volatile acidity  citric acid  \\\n",
       "0         0        5       1.722767         -0.363843     0.244949   \n",
       "1         1        5       2.174752         -0.494296     0.374166   \n",
       "2         2        5       2.066863         -1.560648     0.624500   \n",
       "3         3        6       1.945910         -1.560648     0.556776   \n",
       "4         4        6       2.054124         -0.916291     0.509902   \n",
       "...     ...      ...            ...               ...          ...   \n",
       "5492   5492        5       2.041220         -1.897120     0.538516   \n",
       "5493   5493        6       1.840550         -1.714798     0.600000   \n",
       "5494   5494        7       2.054124         -1.897120     0.583095   \n",
       "5495   5495        5       1.887070         -0.891598     0.556776   \n",
       "5496   5496        6       1.945910         -1.049822     0.412311   \n",
       "\n",
       "      residual sugar  chlorides  free sulfur dioxide  total sulfur dioxide  \\\n",
       "0           1.916923  -3.170086             2.197225                  84.0   \n",
       "1           0.875469  -2.703063             2.302585                  42.0   \n",
       "2           0.693147  -2.864704             3.044522                 138.0   \n",
       "3           1.791759  -3.079114             3.367296                 108.0   \n",
       "4           2.251292  -2.830218             3.465736                 178.0   \n",
       "...              ...        ...                  ...                   ...   \n",
       "5492        0.262364  -3.540459             2.302585                  64.0   \n",
       "5493        0.182322  -3.381395             3.258097                 111.0   \n",
       "5494        0.095310  -3.352407             3.433987                  93.0   \n",
       "5495        0.470004  -3.170086             2.890372                 101.0   \n",
       "5496        0.095310  -3.015935             1.945910                 119.0   \n",
       "\n",
       "       density        pH  sulphates   alcohol   type  \n",
       "0    -0.005696  1.235471  -0.820981  2.322388  white  \n",
       "1    -0.003105  1.160021  -0.527633  2.251292    red  \n",
       "2    -0.008274  1.115142  -0.653926  2.388763  white  \n",
       "3    -0.006119  1.181727  -0.693147  2.379546  white  \n",
       "4    -0.004510  1.111858  -0.843970  2.388763  white  \n",
       "...        ...       ...        ...       ...    ...  \n",
       "5492 -0.006823  1.208960  -0.941609  2.312535  white  \n",
       "5493 -0.009303  1.150572  -0.673345  2.397895  white  \n",
       "5494 -0.009081  1.121678  -0.328504  2.424803  white  \n",
       "5495 -0.008083  1.141033  -0.891598  2.351375  white  \n",
       "5496 -0.007055  1.141033  -1.021651  2.272126  white  \n",
       "\n",
       "[5497 rows x 14 columns]"
      ]
     },
     "execution_count": 30,
     "metadata": {},
     "output_type": "execute_result"
    }
   ],
   "source": [
    "def logarithm_scaler(df):\n",
    "    #로그 값으로 변환(log a 는 양수이므로 음수인 값들은 제곱근으로 변환해줌)\n",
    "    epsilon = 1e-10\n",
    "    for i in df.columns:\n",
    "        if df[i].min() == 0:\n",
    "            df[i] = np.sqrt(df[i])\n",
    "        else:\n",
    "            df[i] = np.log(df[i])\n",
    "    return df\n",
    "\n",
    "# log 변환이 필요없는 feature는 제외\n",
    "transform_data = all_data.drop(columns=['index', 'type', 'total sulfur dioxide']) \n",
    "\n",
    "train[transform_data.columns] = logarithm_scaler(transform_data)\n",
    "train"
   ]
  },
  {
   "cell_type": "markdown",
   "id": "a8d0597c",
   "metadata": {},
   "source": [
    "#### 정규화 스케일"
   ]
  },
  {
   "cell_type": "code",
   "execution_count": 31,
   "id": "b6d06d91",
   "metadata": {},
   "outputs": [
    {
     "data": {
      "text/html": [
       "<div>\n",
       "<style scoped>\n",
       "    .dataframe tbody tr th:only-of-type {\n",
       "        vertical-align: middle;\n",
       "    }\n",
       "\n",
       "    .dataframe tbody tr th {\n",
       "        vertical-align: top;\n",
       "    }\n",
       "\n",
       "    .dataframe thead th {\n",
       "        text-align: right;\n",
       "    }\n",
       "</style>\n",
       "<table border=\"1\" class=\"dataframe\">\n",
       "  <thead>\n",
       "    <tr style=\"text-align: right;\">\n",
       "      <th></th>\n",
       "      <th>index</th>\n",
       "      <th>fixed acidity</th>\n",
       "      <th>volatile acidity</th>\n",
       "      <th>citric acid</th>\n",
       "      <th>residual sugar</th>\n",
       "      <th>chlorides</th>\n",
       "      <th>free sulfur dioxide</th>\n",
       "      <th>total sulfur dioxide</th>\n",
       "      <th>density</th>\n",
       "      <th>pH</th>\n",
       "      <th>sulphates</th>\n",
       "      <th>alcohol</th>\n",
       "      <th>type</th>\n",
       "    </tr>\n",
       "  </thead>\n",
       "  <tbody>\n",
       "    <tr>\n",
       "      <th>0</th>\n",
       "      <td>0</td>\n",
       "      <td>-1.246058</td>\n",
       "      <td>2.158461</td>\n",
       "      <td>-1.779913</td>\n",
       "      <td>0.285188</td>\n",
       "      <td>-0.400614</td>\n",
       "      <td>-1.212828</td>\n",
       "      <td>-0.561677</td>\n",
       "      <td>-0.125610</td>\n",
       "      <td>1.377698</td>\n",
       "      <td>-0.613385</td>\n",
       "      <td>-0.244672</td>\n",
       "      <td>white</td>\n",
       "    </tr>\n",
       "    <tr>\n",
       "      <th>1</th>\n",
       "      <td>1</td>\n",
       "      <td>1.222442</td>\n",
       "      <td>1.642132</td>\n",
       "      <td>-1.229353</td>\n",
       "      <td>-0.639680</td>\n",
       "      <td>0.313042</td>\n",
       "      <td>-1.156484</td>\n",
       "      <td>-1.304809</td>\n",
       "      <td>0.734837</td>\n",
       "      <td>-0.177272</td>\n",
       "      <td>0.394717</td>\n",
       "      <td>-0.831615</td>\n",
       "      <td>red</td>\n",
       "    </tr>\n",
       "    <tr>\n",
       "      <th>2</th>\n",
       "      <td>2</td>\n",
       "      <td>0.528176</td>\n",
       "      <td>-0.787650</td>\n",
       "      <td>0.491146</td>\n",
       "      <td>-0.723758</td>\n",
       "      <td>0.027580</td>\n",
       "      <td>-0.536697</td>\n",
       "      <td>0.393779</td>\n",
       "      <td>-0.979386</td>\n",
       "      <td>-1.048055</td>\n",
       "      <td>-0.075731</td>\n",
       "      <td>0.342271</td>\n",
       "      <td>white</td>\n",
       "    </tr>\n",
       "    <tr>\n",
       "      <th>3</th>\n",
       "      <td>3</td>\n",
       "      <td>-0.166089</td>\n",
       "      <td>-0.787650</td>\n",
       "      <td>-0.059414</td>\n",
       "      <td>0.117030</td>\n",
       "      <td>-0.286429</td>\n",
       "      <td>-0.085943</td>\n",
       "      <td>-0.137030</td>\n",
       "      <td>-0.265683</td>\n",
       "      <td>0.258120</td>\n",
       "      <td>-0.210144</td>\n",
       "      <td>0.258422</td>\n",
       "      <td>white</td>\n",
       "    </tr>\n",
       "    <tr>\n",
       "      <th>4</th>\n",
       "      <td>4</td>\n",
       "      <td>0.451036</td>\n",
       "      <td>0.366496</td>\n",
       "      <td>-0.403514</td>\n",
       "      <td>0.852721</td>\n",
       "      <td>0.084672</td>\n",
       "      <td>0.083090</td>\n",
       "      <td>1.101525</td>\n",
       "      <td>0.267928</td>\n",
       "      <td>-1.110254</td>\n",
       "      <td>-0.680592</td>\n",
       "      <td>0.342271</td>\n",
       "      <td>white</td>\n",
       "    </tr>\n",
       "    <tr>\n",
       "      <th>...</th>\n",
       "      <td>...</td>\n",
       "      <td>...</td>\n",
       "      <td>...</td>\n",
       "      <td>...</td>\n",
       "      <td>...</td>\n",
       "      <td>...</td>\n",
       "      <td>...</td>\n",
       "      <td>...</td>\n",
       "      <td>...</td>\n",
       "      <td>...</td>\n",
       "      <td>...</td>\n",
       "      <td>...</td>\n",
       "      <td>...</td>\n",
       "    </tr>\n",
       "    <tr>\n",
       "      <th>6492</th>\n",
       "      <td>995</td>\n",
       "      <td>-0.088949</td>\n",
       "      <td>1.520643</td>\n",
       "      <td>-2.055193</td>\n",
       "      <td>-0.660699</td>\n",
       "      <td>0.741235</td>\n",
       "      <td>-0.367664</td>\n",
       "      <td>-0.384741</td>\n",
       "      <td>0.914930</td>\n",
       "      <td>2.061885</td>\n",
       "      <td>-0.008524</td>\n",
       "      <td>-0.663917</td>\n",
       "      <td>red</td>\n",
       "    </tr>\n",
       "    <tr>\n",
       "      <th>6493</th>\n",
       "      <td>996</td>\n",
       "      <td>1.145301</td>\n",
       "      <td>-1.152118</td>\n",
       "      <td>-0.128234</td>\n",
       "      <td>-0.807837</td>\n",
       "      <td>-0.286429</td>\n",
       "      <td>-0.085943</td>\n",
       "      <td>0.252230</td>\n",
       "      <td>-0.165631</td>\n",
       "      <td>0.009325</td>\n",
       "      <td>-1.016626</td>\n",
       "      <td>-0.580068</td>\n",
       "      <td>white</td>\n",
       "    </tr>\n",
       "    <tr>\n",
       "      <th>6494</th>\n",
       "      <td>997</td>\n",
       "      <td>1.222442</td>\n",
       "      <td>1.945855</td>\n",
       "      <td>-0.403514</td>\n",
       "      <td>-0.786818</td>\n",
       "      <td>0.512865</td>\n",
       "      <td>-1.494550</td>\n",
       "      <td>-1.640988</td>\n",
       "      <td>0.801538</td>\n",
       "      <td>-0.426067</td>\n",
       "      <td>1.402820</td>\n",
       "      <td>-1.083162</td>\n",
       "      <td>red</td>\n",
       "    </tr>\n",
       "    <tr>\n",
       "      <th>6495</th>\n",
       "      <td>998</td>\n",
       "      <td>-0.166089</td>\n",
       "      <td>0.487985</td>\n",
       "      <td>-0.885253</td>\n",
       "      <td>-0.660699</td>\n",
       "      <td>0.427227</td>\n",
       "      <td>-0.705730</td>\n",
       "      <td>-1.410971</td>\n",
       "      <td>0.021133</td>\n",
       "      <td>1.066704</td>\n",
       "      <td>0.193097</td>\n",
       "      <td>0.342271</td>\n",
       "      <td>red</td>\n",
       "    </tr>\n",
       "    <tr>\n",
       "      <th>6496</th>\n",
       "      <td>999</td>\n",
       "      <td>0.991020</td>\n",
       "      <td>-0.787650</td>\n",
       "      <td>-0.403514</td>\n",
       "      <td>0.800171</td>\n",
       "      <td>-0.628984</td>\n",
       "      <td>2.393205</td>\n",
       "      <td>0.464554</td>\n",
       "      <td>-0.065579</td>\n",
       "      <td>-1.048055</td>\n",
       "      <td>-1.083833</td>\n",
       "      <td>0.761516</td>\n",
       "      <td>white</td>\n",
       "    </tr>\n",
       "  </tbody>\n",
       "</table>\n",
       "<p>6497 rows × 13 columns</p>\n",
       "</div>"
      ],
      "text/plain": [
       "      index  fixed acidity  volatile acidity  citric acid  residual sugar  \\\n",
       "0         0      -1.246058          2.158461    -1.779913        0.285188   \n",
       "1         1       1.222442          1.642132    -1.229353       -0.639680   \n",
       "2         2       0.528176         -0.787650     0.491146       -0.723758   \n",
       "3         3      -0.166089         -0.787650    -0.059414        0.117030   \n",
       "4         4       0.451036          0.366496    -0.403514        0.852721   \n",
       "...     ...            ...               ...          ...             ...   \n",
       "6492    995      -0.088949          1.520643    -2.055193       -0.660699   \n",
       "6493    996       1.145301         -1.152118    -0.128234       -0.807837   \n",
       "6494    997       1.222442          1.945855    -0.403514       -0.786818   \n",
       "6495    998      -0.166089          0.487985    -0.885253       -0.660699   \n",
       "6496    999       0.991020         -0.787650    -0.403514        0.800171   \n",
       "\n",
       "      chlorides  free sulfur dioxide  total sulfur dioxide   density  \\\n",
       "0     -0.400614            -1.212828             -0.561677 -0.125610   \n",
       "1      0.313042            -1.156484             -1.304809  0.734837   \n",
       "2      0.027580            -0.536697              0.393779 -0.979386   \n",
       "3     -0.286429            -0.085943             -0.137030 -0.265683   \n",
       "4      0.084672             0.083090              1.101525  0.267928   \n",
       "...         ...                  ...                   ...       ...   \n",
       "6492   0.741235            -0.367664             -0.384741  0.914930   \n",
       "6493  -0.286429            -0.085943              0.252230 -0.165631   \n",
       "6494   0.512865            -1.494550             -1.640988  0.801538   \n",
       "6495   0.427227            -0.705730             -1.410971  0.021133   \n",
       "6496  -0.628984             2.393205              0.464554 -0.065579   \n",
       "\n",
       "            pH  sulphates   alcohol   type  \n",
       "0     1.377698  -0.613385 -0.244672  white  \n",
       "1    -0.177272   0.394717 -0.831615    red  \n",
       "2    -1.048055  -0.075731  0.342271  white  \n",
       "3     0.258120  -0.210144  0.258422  white  \n",
       "4    -1.110254  -0.680592  0.342271  white  \n",
       "...        ...        ...       ...    ...  \n",
       "6492  2.061885  -0.008524 -0.663917    red  \n",
       "6493  0.009325  -1.016626 -0.580068  white  \n",
       "6494 -0.426067   1.402820 -1.083162    red  \n",
       "6495  1.066704   0.193097  0.342271    red  \n",
       "6496 -1.048055  -1.083833  0.761516  white  \n",
       "\n",
       "[6497 rows x 13 columns]"
      ]
     },
     "execution_count": 31,
     "metadata": {},
     "output_type": "execute_result"
    }
   ],
   "source": [
    "transform_data = all_data.drop(columns=['index','type']) \n",
    "\n",
    "# Standard Scaler 적용\n",
    "from sklearn.preprocessing import StandardScaler\n",
    "scaler = StandardScaler()\n",
    "\n",
    "std_transform_data = scaler.fit_transform(transform_data)\n",
    "\n",
    "all_data[transform_data.columns] = std_transform_data\n",
    "all_data"
   ]
  },
  {
   "cell_type": "markdown",
   "id": "83b5efc6",
   "metadata": {},
   "source": [
    "#### 범주형 데이터 변환"
   ]
  },
  {
   "cell_type": "code",
   "execution_count": 44,
   "id": "2c452c8e",
   "metadata": {},
   "outputs": [
    {
     "data": {
      "text/html": [
       "<div>\n",
       "<style scoped>\n",
       "    .dataframe tbody tr th:only-of-type {\n",
       "        vertical-align: middle;\n",
       "    }\n",
       "\n",
       "    .dataframe tbody tr th {\n",
       "        vertical-align: top;\n",
       "    }\n",
       "\n",
       "    .dataframe thead th {\n",
       "        text-align: right;\n",
       "    }\n",
       "</style>\n",
       "<table border=\"1\" class=\"dataframe\">\n",
       "  <thead>\n",
       "    <tr style=\"text-align: right;\">\n",
       "      <th></th>\n",
       "      <th>index</th>\n",
       "      <th>fixed acidity</th>\n",
       "      <th>volatile acidity</th>\n",
       "      <th>citric acid</th>\n",
       "      <th>residual sugar</th>\n",
       "      <th>chlorides</th>\n",
       "      <th>free sulfur dioxide</th>\n",
       "      <th>total sulfur dioxide</th>\n",
       "      <th>density</th>\n",
       "      <th>pH</th>\n",
       "      <th>sulphates</th>\n",
       "      <th>alcohol</th>\n",
       "      <th>type</th>\n",
       "    </tr>\n",
       "  </thead>\n",
       "  <tbody>\n",
       "    <tr>\n",
       "      <th>0</th>\n",
       "      <td>0</td>\n",
       "      <td>1.722767</td>\n",
       "      <td>-0.363843</td>\n",
       "      <td>0.244949</td>\n",
       "      <td>1.916923</td>\n",
       "      <td>-3.170086</td>\n",
       "      <td>2.197225</td>\n",
       "      <td>84.0</td>\n",
       "      <td>-0.005696</td>\n",
       "      <td>1.235471</td>\n",
       "      <td>-0.820981</td>\n",
       "      <td>2.322388</td>\n",
       "      <td>0.0</td>\n",
       "    </tr>\n",
       "    <tr>\n",
       "      <th>1</th>\n",
       "      <td>1</td>\n",
       "      <td>2.174752</td>\n",
       "      <td>-0.494296</td>\n",
       "      <td>0.374166</td>\n",
       "      <td>0.875469</td>\n",
       "      <td>-2.703063</td>\n",
       "      <td>2.302585</td>\n",
       "      <td>42.0</td>\n",
       "      <td>-0.003105</td>\n",
       "      <td>1.160021</td>\n",
       "      <td>-0.527633</td>\n",
       "      <td>2.251292</td>\n",
       "      <td>1.0</td>\n",
       "    </tr>\n",
       "    <tr>\n",
       "      <th>2</th>\n",
       "      <td>2</td>\n",
       "      <td>2.066863</td>\n",
       "      <td>-1.560648</td>\n",
       "      <td>0.624500</td>\n",
       "      <td>0.693147</td>\n",
       "      <td>-2.864704</td>\n",
       "      <td>3.044522</td>\n",
       "      <td>138.0</td>\n",
       "      <td>-0.008274</td>\n",
       "      <td>1.115142</td>\n",
       "      <td>-0.653926</td>\n",
       "      <td>2.388763</td>\n",
       "      <td>0.0</td>\n",
       "    </tr>\n",
       "    <tr>\n",
       "      <th>3</th>\n",
       "      <td>3</td>\n",
       "      <td>1.945910</td>\n",
       "      <td>-1.560648</td>\n",
       "      <td>0.556776</td>\n",
       "      <td>1.791759</td>\n",
       "      <td>-3.079114</td>\n",
       "      <td>3.367296</td>\n",
       "      <td>108.0</td>\n",
       "      <td>-0.006119</td>\n",
       "      <td>1.181727</td>\n",
       "      <td>-0.693147</td>\n",
       "      <td>2.379546</td>\n",
       "      <td>0.0</td>\n",
       "    </tr>\n",
       "    <tr>\n",
       "      <th>4</th>\n",
       "      <td>4</td>\n",
       "      <td>2.054124</td>\n",
       "      <td>-0.916291</td>\n",
       "      <td>0.509902</td>\n",
       "      <td>2.251292</td>\n",
       "      <td>-2.830218</td>\n",
       "      <td>3.465736</td>\n",
       "      <td>178.0</td>\n",
       "      <td>-0.004510</td>\n",
       "      <td>1.111858</td>\n",
       "      <td>-0.843970</td>\n",
       "      <td>2.388763</td>\n",
       "      <td>0.0</td>\n",
       "    </tr>\n",
       "  </tbody>\n",
       "</table>\n",
       "</div>"
      ],
      "text/plain": [
       "   index  fixed acidity  volatile acidity  citric acid  residual sugar  \\\n",
       "0      0       1.722767         -0.363843     0.244949        1.916923   \n",
       "1      1       2.174752         -0.494296     0.374166        0.875469   \n",
       "2      2       2.066863         -1.560648     0.624500        0.693147   \n",
       "3      3       1.945910         -1.560648     0.556776        1.791759   \n",
       "4      4       2.054124         -0.916291     0.509902        2.251292   \n",
       "\n",
       "   chlorides  free sulfur dioxide  total sulfur dioxide   density        pH  \\\n",
       "0  -3.170086             2.197225                  84.0 -0.005696  1.235471   \n",
       "1  -2.703063             2.302585                  42.0 -0.003105  1.160021   \n",
       "2  -2.864704             3.044522                 138.0 -0.008274  1.115142   \n",
       "3  -3.079114             3.367296                 108.0 -0.006119  1.181727   \n",
       "4  -2.830218             3.465736                 178.0 -0.004510  1.111858   \n",
       "\n",
       "   sulphates   alcohol  type  \n",
       "0  -0.820981  2.322388   0.0  \n",
       "1  -0.527633  2.251292   1.0  \n",
       "2  -0.653926  2.388763   0.0  \n",
       "3  -0.693147  2.379546   0.0  \n",
       "4  -0.843970  2.388763   0.0  "
      ]
     },
     "execution_count": 44,
     "metadata": {},
     "output_type": "execute_result"
    }
   ],
   "source": [
    "all_data['type'] = all_data['type'].map({'white':0, 'red': 1})\n",
    "all_data['type'] = all_data['type'].astype('float')\n",
    "all_data.head()"
   ]
  },
  {
   "cell_type": "markdown",
   "id": "10f08550",
   "metadata": {},
   "source": [
    "#### 데이터 나누기"
   ]
  },
  {
   "cell_type": "code",
   "execution_count": 49,
   "id": "0ff6fd27",
   "metadata": {},
   "outputs": [
    {
     "name": "stdout",
     "output_type": "stream",
     "text": [
      "(5497, 13)\n",
      "(1000, 13)\n"
     ]
    }
   ],
   "source": [
    "all_data = pd.concat([train, test], ignore_index = True)\n",
    "all_data = all_data.drop('quality', axis=1) \n",
    "all_data['type'] = all_data['type'].map({'white':0, 'red': 1})\n",
    "all_data['type'] = all_data['type'].astype('float')\n",
    "\n",
    "num_train = len(train)\n",
    "\n",
    "X_train = all_data[:num_train]\n",
    "X_test = all_data[num_train:]\n",
    "\n",
    "y = train['quality']\n",
    "\n",
    "print(X_train.shape)\n",
    "print(X_test.shape)"
   ]
  },
  {
   "cell_type": "code",
   "execution_count": 50,
   "id": "27f32c1a",
   "metadata": {},
   "outputs": [
    {
     "name": "stdout",
     "output_type": "stream",
     "text": [
      "<class 'pandas.core.frame.DataFrame'>\n",
      "RangeIndex: 5497 entries, 0 to 5496\n",
      "Data columns (total 13 columns):\n",
      " #   Column                Non-Null Count  Dtype  \n",
      "---  ------                --------------  -----  \n",
      " 0   index                 5497 non-null   int64  \n",
      " 1   fixed acidity         5497 non-null   float64\n",
      " 2   volatile acidity      5497 non-null   float64\n",
      " 3   citric acid           5497 non-null   float64\n",
      " 4   residual sugar        5497 non-null   float64\n",
      " 5   chlorides             5497 non-null   float64\n",
      " 6   free sulfur dioxide   5497 non-null   float64\n",
      " 7   total sulfur dioxide  5497 non-null   float64\n",
      " 8   density               5497 non-null   float64\n",
      " 9   pH                    5497 non-null   float64\n",
      " 10  sulphates             5497 non-null   float64\n",
      " 11  alcohol               5497 non-null   float64\n",
      " 12  type                  5497 non-null   float64\n",
      "dtypes: float64(12), int64(1)\n",
      "memory usage: 558.4 KB\n"
     ]
    }
   ],
   "source": [
    "X_train.info()"
   ]
  },
  {
   "cell_type": "code",
   "execution_count": 51,
   "id": "e153fe8e",
   "metadata": {},
   "outputs": [],
   "source": [
    "from sklearn.model_selection import train_test_split\n",
    "\n",
    "X_train, X_valid, y_train, y_valid = train_test_split(X_train, y, test_size=0.1, stratify=y, random_state=10)"
   ]
  },
  {
   "cell_type": "code",
   "execution_count": 52,
   "id": "8e64ec58",
   "metadata": {
    "scrolled": true
   },
   "outputs": [
    {
     "name": "stderr",
     "output_type": "stream",
     "text": [
      "C:\\ProgramData\\Anaconda3\\lib\\site-packages\\sklearn\\linear_model\\_logistic.py:763: ConvergenceWarning: lbfgs failed to converge (status=1):\n",
      "STOP: TOTAL NO. of ITERATIONS REACHED LIMIT.\n",
      "\n",
      "Increase the number of iterations (max_iter) or scale the data as shown in:\n",
      "    https://scikit-learn.org/stable/modules/preprocessing.html\n",
      "Please also refer to the documentation for alternative solver options:\n",
      "    https://scikit-learn.org/stable/modules/linear_model.html#logistic-regression\n",
      "  n_iter_i = _check_optimize_result(\n"
     ]
    },
    {
     "data": {
      "text/plain": [
       "LogisticRegression(max_iter=1000, random_state=42)"
      ]
     },
     "execution_count": 52,
     "metadata": {},
     "output_type": "execute_result"
    }
   ],
   "source": [
    "#분류문제이므로 로지스틱회귀 모델 활용\n",
    "from sklearn.linear_model import LogisticRegression\n",
    "logistic_model = LogisticRegression(max_iter=1000, random_state=42) # 모델 생성\n",
    "logistic_model.fit(X_train, y_train) # 모델 훈련"
   ]
  },
  {
   "cell_type": "code",
   "execution_count": 53,
   "id": "73dc49df",
   "metadata": {},
   "outputs": [
    {
     "data": {
      "text/plain": [
       "array([[1.28186682e-02, 1.96118971e-02, 2.99146848e-01, ...,\n",
       "        1.41449930e-01, 5.20656826e-02, 1.67710030e-03],\n",
       "       [2.34995881e-03, 2.16442677e-02, 3.47107077e-01, ...,\n",
       "        1.55306664e-01, 2.62076939e-02, 6.40825156e-05],\n",
       "       [4.93333921e-03, 3.39871207e-02, 2.49976616e-01, ...,\n",
       "        1.62134978e-01, 1.78776966e-02, 7.21060810e-04],\n",
       "       ...,\n",
       "       [1.36302268e-02, 1.64292658e-02, 1.90922577e-01, ...,\n",
       "        1.52556219e-01, 3.57755511e-02, 3.79512963e-03],\n",
       "       [2.14622687e-02, 2.60737018e-02, 2.26605681e-01, ...,\n",
       "        1.64684781e-01, 5.42292349e-02, 5.70858549e-03],\n",
       "       [6.10646197e-04, 2.61449919e-02, 6.08148686e-01, ...,\n",
       "        1.21525200e-01, 2.08225385e-02, 2.53851322e-06]])"
      ]
     },
     "execution_count": 53,
     "metadata": {},
     "output_type": "execute_result"
    }
   ],
   "source": [
    "logistic_model.predict_proba(X_valid)"
   ]
  },
  {
   "cell_type": "code",
   "execution_count": 54,
   "id": "e6399791",
   "metadata": {
    "scrolled": true
   },
   "outputs": [
    {
     "data": {
      "text/plain": [
       "array([6, 6, 6, 6, 6, 6, 6, 5, 6, 5, 6, 6, 6, 6, 6, 6, 6, 6, 6, 6, 5, 6,\n",
       "       6, 5, 6, 6, 6, 6, 6, 6, 6, 5, 6, 5, 6, 6, 6, 5, 6, 6, 5, 6, 6, 6,\n",
       "       6, 6, 6, 6, 6, 5, 6, 6, 5, 5, 5, 6, 6, 5, 6, 5, 6, 6, 6, 6, 6, 6,\n",
       "       5, 6, 6, 6, 6, 6, 6, 6, 6, 5, 6, 6, 6, 6, 5, 6, 6, 5, 6, 6, 6, 6,\n",
       "       6, 6, 6, 6, 5, 6, 6, 5, 6, 6, 6, 6, 6, 6, 6, 6, 6, 6, 6, 6, 6, 6,\n",
       "       6, 6, 6, 6, 6, 6, 6, 6, 6, 6, 6, 6, 6, 6, 6, 5, 6, 5, 6, 6, 5, 6,\n",
       "       6, 5, 6, 6, 6, 6, 6, 6, 6, 6, 6, 6, 5, 6, 6, 6, 6, 5, 6, 5, 5, 6,\n",
       "       6, 5, 6, 6, 5, 6, 6, 6, 6, 6, 5, 6, 6, 5, 6, 6, 6, 6, 5, 6, 6, 5,\n",
       "       6, 5, 6, 6, 6, 6, 6, 6, 5, 5, 6, 6, 5, 6, 6, 6, 5, 5, 6, 6, 6, 6,\n",
       "       6, 6, 5, 6, 5, 6, 6, 5, 6, 6, 6, 6, 6, 5, 5, 6, 6, 6, 6, 5, 6, 6,\n",
       "       6, 6, 5, 6, 6, 6, 6, 6, 5, 5, 6, 5, 5, 6, 6, 5, 6, 6, 6, 6, 6, 6,\n",
       "       6, 6, 5, 5, 6, 6, 5, 6, 5, 6, 6, 6, 6, 6, 6, 5, 6, 6, 6, 6, 6, 6,\n",
       "       6, 6, 5, 6, 5, 6, 6, 6, 6, 5, 6, 6, 6, 6, 5, 6, 6, 6, 6, 6, 5, 6,\n",
       "       6, 6, 6, 6, 6, 6, 6, 5, 6, 5, 5, 6, 6, 5, 6, 6, 6, 6, 5, 6, 6, 6,\n",
       "       6, 6, 5, 6, 6, 6, 6, 6, 6, 6, 5, 6, 6, 5, 6, 6, 5, 6, 6, 6, 6, 6,\n",
       "       6, 6, 5, 6, 6, 6, 6, 6, 6, 6, 5, 6, 6, 6, 6, 6, 6, 6, 6, 6, 6, 6,\n",
       "       6, 6, 5, 6, 6, 6, 6, 5, 6, 6, 6, 6, 6, 6, 6, 6, 6, 6, 6, 5, 6, 5,\n",
       "       6, 6, 6, 6, 5, 6, 6, 6, 6, 6, 5, 6, 5, 6, 6, 6, 5, 6, 6, 6, 6, 6,\n",
       "       6, 5, 6, 6, 6, 6, 6, 6, 6, 6, 6, 6, 5, 6, 6, 6, 5, 6, 6, 6, 5, 6,\n",
       "       6, 6, 6, 5, 6, 6, 6, 6, 6, 6, 6, 6, 6, 5, 6, 5, 6, 6, 6, 6, 5, 6,\n",
       "       6, 6, 6, 6, 6, 6, 5, 6, 6, 6, 6, 5, 5, 5, 5, 6, 6, 6, 6, 6, 6, 5,\n",
       "       6, 6, 5, 6, 5, 6, 5, 6, 6, 6, 6, 6, 6, 6, 6, 6, 6, 5, 6, 5, 6, 6,\n",
       "       6, 6, 6, 6, 6, 6, 6, 6, 6, 6, 6, 6, 5, 6, 6, 6, 6, 6, 6, 6, 6, 5,\n",
       "       5, 6, 6, 5, 6, 6, 6, 6, 5, 5, 6, 6, 6, 5, 5, 6, 6, 6, 6, 6, 6, 6,\n",
       "       5, 6, 6, 6, 6, 6, 6, 5, 5, 6, 5, 6, 6, 5, 6, 6, 5, 6, 6, 6, 6, 5],\n",
       "      dtype=int64)"
      ]
     },
     "execution_count": 54,
     "metadata": {},
     "output_type": "execute_result"
    }
   ],
   "source": [
    "logistic_model.predict(X_valid)"
   ]
  },
  {
   "cell_type": "code",
   "execution_count": 55,
   "id": "5312072d",
   "metadata": {},
   "outputs": [],
   "source": [
    "y_valid_preds = logistic_model.predict_proba(X_valid)[:, 1]"
   ]
  },
  {
   "cell_type": "code",
   "execution_count": 56,
   "id": "854dd754",
   "metadata": {},
   "outputs": [],
   "source": [
    "y_preds = logistic_model.predict(X_test)"
   ]
  },
  {
   "cell_type": "code",
   "execution_count": 57,
   "id": "ddbf3f5e",
   "metadata": {},
   "outputs": [],
   "source": [
    "submission['quality'] = y_preds\n",
    "submission.to_csv('submission.csv')"
   ]
  },
  {
   "cell_type": "markdown",
   "id": "a3306b62",
   "metadata": {},
   "source": [
    "#### 예측 결과, 품질의 값을 5, 6 이외의 값을 예측하지 못하는 것을 보아 \n",
    "#### 데이터의 수가 부족하여 주로 많은 값을 가졌던 5, 6을 위주로 예측한 것으로 판단함. \n",
    "#### 이후의 성능 개선 과정을 거친다면 데이터 증강을 활용하여 예측 정확도를 높여야 할 필요가 있어보였음"
   ]
  }
 ],
 "metadata": {
  "kernelspec": {
   "display_name": "Python 3 (ipykernel)",
   "language": "python",
   "name": "python3"
  },
  "language_info": {
   "codemirror_mode": {
    "name": "ipython",
    "version": 3
   },
   "file_extension": ".py",
   "mimetype": "text/x-python",
   "name": "python",
   "nbconvert_exporter": "python",
   "pygments_lexer": "ipython3",
   "version": "3.9.7"
  }
 },
 "nbformat": 4,
 "nbformat_minor": 5
}
